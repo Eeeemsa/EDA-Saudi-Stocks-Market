{
 "cells": [
  {
   "cell_type": "code",
   "execution_count": 1,
   "id": "0376fff9",
   "metadata": {},
   "outputs": [],
   "source": [
    "import pandas as pd\n",
    "import numpy as np\n",
    "import matplotlib.pyplot as plt\n",
    "import datetime as dt\n",
    "from datetime import datetime\n",
    "%matplotlib inline"
   ]
  },
  {
   "cell_type": "code",
   "execution_count": 52,
   "id": "a50bbfbe",
   "metadata": {},
   "outputs": [],
   "source": [
    "rajhi = pd.read_csv('RajhiBank.csv',sep=';')\n",
    "sabic = pd.read_csv('SABIC.csv',sep=';')\n",
    "elec = pd.read_csv('Electricity.csv',sep=';')\n",
    "stc = pd.read_csv('Telecom.csv',sep=';')"
   ]
  },
  {
   "cell_type": "markdown",
   "id": "bdda9329",
   "metadata": {},
   "source": [
    "### STEP 1: EDA "
   ]
  },
  {
   "cell_type": "code",
   "execution_count": 4,
   "id": "5a069453",
   "metadata": {},
   "outputs": [
    {
     "data": {
      "text/html": [
       "<div>\n",
       "<style scoped>\n",
       "    .dataframe tbody tr th:only-of-type {\n",
       "        vertical-align: middle;\n",
       "    }\n",
       "\n",
       "    .dataframe tbody tr th {\n",
       "        vertical-align: top;\n",
       "    }\n",
       "\n",
       "    .dataframe thead th {\n",
       "        text-align: right;\n",
       "    }\n",
       "</style>\n",
       "<table border=\"1\" class=\"dataframe\">\n",
       "  <thead>\n",
       "    <tr style=\"text-align: right;\">\n",
       "      <th></th>\n",
       "      <th>date</th>\n",
       "      <th>open</th>\n",
       "      <th>high</th>\n",
       "      <th>low</th>\n",
       "      <th>close</th>\n",
       "      <th>change</th>\n",
       "      <th>changePer</th>\n",
       "      <th>Volume</th>\n",
       "      <th>tradesNum</th>\n",
       "    </tr>\n",
       "  </thead>\n",
       "  <tbody>\n",
       "    <tr>\n",
       "      <th>0</th>\n",
       "      <td>31/10/21</td>\n",
       "      <td>138.6</td>\n",
       "      <td>140.0</td>\n",
       "      <td>138.6</td>\n",
       "      <td>139.0</td>\n",
       "      <td>0.4</td>\n",
       "      <td>0.29</td>\n",
       "      <td>1,686,212</td>\n",
       "      <td>3,640</td>\n",
       "    </tr>\n",
       "    <tr>\n",
       "      <th>1</th>\n",
       "      <td>28/10/21</td>\n",
       "      <td>138.8</td>\n",
       "      <td>140.0</td>\n",
       "      <td>136.8</td>\n",
       "      <td>138.6</td>\n",
       "      <td>-0.2</td>\n",
       "      <td>-0.14</td>\n",
       "      <td>3,793,965</td>\n",
       "      <td>8,647</td>\n",
       "    </tr>\n",
       "    <tr>\n",
       "      <th>2</th>\n",
       "      <td>27/10/21</td>\n",
       "      <td>139.2</td>\n",
       "      <td>140.2</td>\n",
       "      <td>138.6</td>\n",
       "      <td>138.8</td>\n",
       "      <td>-0.4</td>\n",
       "      <td>-0.29</td>\n",
       "      <td>2,270,175</td>\n",
       "      <td>5,750</td>\n",
       "    </tr>\n",
       "    <tr>\n",
       "      <th>3</th>\n",
       "      <td>26/10/21</td>\n",
       "      <td>140.0</td>\n",
       "      <td>141.0</td>\n",
       "      <td>139.2</td>\n",
       "      <td>139.2</td>\n",
       "      <td>-0.8</td>\n",
       "      <td>-0.57</td>\n",
       "      <td>2,742,541</td>\n",
       "      <td>5,692</td>\n",
       "    </tr>\n",
       "    <tr>\n",
       "      <th>4</th>\n",
       "      <td>25/10/21</td>\n",
       "      <td>137.8</td>\n",
       "      <td>140.6</td>\n",
       "      <td>135.2</td>\n",
       "      <td>140.0</td>\n",
       "      <td>2.2</td>\n",
       "      <td>1.60</td>\n",
       "      <td>2,285,307</td>\n",
       "      <td>7,643</td>\n",
       "    </tr>\n",
       "  </tbody>\n",
       "</table>\n",
       "</div>"
      ],
      "text/plain": [
       "       date   open   high    low  close  change  changePer     Volume  \\\n",
       "0  31/10/21  138.6  140.0  138.6  139.0     0.4       0.29  1,686,212   \n",
       "1  28/10/21  138.8  140.0  136.8  138.6    -0.2      -0.14  3,793,965   \n",
       "2  27/10/21  139.2  140.2  138.6  138.8    -0.4      -0.29  2,270,175   \n",
       "3  26/10/21  140.0  141.0  139.2  139.2    -0.8      -0.57  2,742,541   \n",
       "4  25/10/21  137.8  140.6  135.2  140.0     2.2       1.60  2,285,307   \n",
       "\n",
       "  tradesNum  \n",
       "0     3,640  \n",
       "1     8,647  \n",
       "2     5,750  \n",
       "3     5,692  \n",
       "4     7,643  "
      ]
     },
     "execution_count": 4,
     "metadata": {},
     "output_type": "execute_result"
    }
   ],
   "source": [
    "rajhi.head()"
   ]
  },
  {
   "cell_type": "code",
   "execution_count": 5,
   "id": "96430252",
   "metadata": {},
   "outputs": [
    {
     "data": {
      "text/html": [
       "<div>\n",
       "<style scoped>\n",
       "    .dataframe tbody tr th:only-of-type {\n",
       "        vertical-align: middle;\n",
       "    }\n",
       "\n",
       "    .dataframe tbody tr th {\n",
       "        vertical-align: top;\n",
       "    }\n",
       "\n",
       "    .dataframe thead th {\n",
       "        text-align: right;\n",
       "    }\n",
       "</style>\n",
       "<table border=\"1\" class=\"dataframe\">\n",
       "  <thead>\n",
       "    <tr style=\"text-align: right;\">\n",
       "      <th></th>\n",
       "      <th>date</th>\n",
       "      <th>open</th>\n",
       "      <th>high</th>\n",
       "      <th>low</th>\n",
       "      <th>close</th>\n",
       "      <th>change</th>\n",
       "      <th>changePer</th>\n",
       "      <th>Volume</th>\n",
       "      <th>tradesNum</th>\n",
       "    </tr>\n",
       "  </thead>\n",
       "  <tbody>\n",
       "    <tr>\n",
       "      <th>0</th>\n",
       "      <td>31/10/21</td>\n",
       "      <td>129.0</td>\n",
       "      <td>130.2</td>\n",
       "      <td>126.6</td>\n",
       "      <td>126.8</td>\n",
       "      <td>-2.2</td>\n",
       "      <td>-1.71</td>\n",
       "      <td>1,842,999</td>\n",
       "      <td>5,403</td>\n",
       "    </tr>\n",
       "    <tr>\n",
       "      <th>1</th>\n",
       "      <td>28/10/21</td>\n",
       "      <td>129.2</td>\n",
       "      <td>131.0</td>\n",
       "      <td>128.6</td>\n",
       "      <td>129.0</td>\n",
       "      <td>-4.0</td>\n",
       "      <td>-3.01</td>\n",
       "      <td>3,402,561</td>\n",
       "      <td>7,772</td>\n",
       "    </tr>\n",
       "    <tr>\n",
       "      <th>2</th>\n",
       "      <td>27/10/21</td>\n",
       "      <td>135.0</td>\n",
       "      <td>136.2</td>\n",
       "      <td>132.0</td>\n",
       "      <td>133.0</td>\n",
       "      <td>-1.6</td>\n",
       "      <td>-1.19</td>\n",
       "      <td>1,684,041</td>\n",
       "      <td>4,957</td>\n",
       "    </tr>\n",
       "    <tr>\n",
       "      <th>3</th>\n",
       "      <td>26/10/21</td>\n",
       "      <td>135.4</td>\n",
       "      <td>136.6</td>\n",
       "      <td>134.6</td>\n",
       "      <td>134.6</td>\n",
       "      <td>-0.6</td>\n",
       "      <td>-0.44</td>\n",
       "      <td>1,270,154</td>\n",
       "      <td>3,251</td>\n",
       "    </tr>\n",
       "    <tr>\n",
       "      <th>4</th>\n",
       "      <td>25/10/21</td>\n",
       "      <td>135.0</td>\n",
       "      <td>136.2</td>\n",
       "      <td>134.0</td>\n",
       "      <td>135.2</td>\n",
       "      <td>0.4</td>\n",
       "      <td>0.30</td>\n",
       "      <td>1,699,523</td>\n",
       "      <td>3,375</td>\n",
       "    </tr>\n",
       "  </tbody>\n",
       "</table>\n",
       "</div>"
      ],
      "text/plain": [
       "       date   open   high    low  close  change  changePer     Volume  \\\n",
       "0  31/10/21  129.0  130.2  126.6  126.8    -2.2      -1.71  1,842,999   \n",
       "1  28/10/21  129.2  131.0  128.6  129.0    -4.0      -3.01  3,402,561   \n",
       "2  27/10/21  135.0  136.2  132.0  133.0    -1.6      -1.19  1,684,041   \n",
       "3  26/10/21  135.4  136.6  134.6  134.6    -0.6      -0.44  1,270,154   \n",
       "4  25/10/21  135.0  136.2  134.0  135.2     0.4       0.30  1,699,523   \n",
       "\n",
       "  tradesNum  \n",
       "0     5,403  \n",
       "1     7,772  \n",
       "2     4,957  \n",
       "3     3,251  \n",
       "4     3,375  "
      ]
     },
     "execution_count": 5,
     "metadata": {},
     "output_type": "execute_result"
    }
   ],
   "source": [
    "sabic.head()"
   ]
  },
  {
   "cell_type": "code",
   "execution_count": 7,
   "id": "adbef520",
   "metadata": {},
   "outputs": [
    {
     "data": {
      "text/html": [
       "<div>\n",
       "<style scoped>\n",
       "    .dataframe tbody tr th:only-of-type {\n",
       "        vertical-align: middle;\n",
       "    }\n",
       "\n",
       "    .dataframe tbody tr th {\n",
       "        vertical-align: top;\n",
       "    }\n",
       "\n",
       "    .dataframe thead th {\n",
       "        text-align: right;\n",
       "    }\n",
       "</style>\n",
       "<table border=\"1\" class=\"dataframe\">\n",
       "  <thead>\n",
       "    <tr style=\"text-align: right;\">\n",
       "      <th></th>\n",
       "      <th>date</th>\n",
       "      <th>open</th>\n",
       "      <th>high</th>\n",
       "      <th>low</th>\n",
       "      <th>close</th>\n",
       "      <th>change</th>\n",
       "      <th>changePer</th>\n",
       "      <th>Volume</th>\n",
       "      <th>tradesNum</th>\n",
       "    </tr>\n",
       "  </thead>\n",
       "  <tbody>\n",
       "    <tr>\n",
       "      <th>0</th>\n",
       "      <td>31/10/21</td>\n",
       "      <td>28.5</td>\n",
       "      <td>29.40</td>\n",
       "      <td>28.50</td>\n",
       "      <td>29.4</td>\n",
       "      <td>0.9</td>\n",
       "      <td>3.16</td>\n",
       "      <td>7,830,080</td>\n",
       "      <td>4,086</td>\n",
       "    </tr>\n",
       "    <tr>\n",
       "      <th>1</th>\n",
       "      <td>28/10/21</td>\n",
       "      <td>27.8</td>\n",
       "      <td>28.60</td>\n",
       "      <td>27.80</td>\n",
       "      <td>28.5</td>\n",
       "      <td>0.5</td>\n",
       "      <td>1.79</td>\n",
       "      <td>3,921,144</td>\n",
       "      <td>2,927</td>\n",
       "    </tr>\n",
       "    <tr>\n",
       "      <th>2</th>\n",
       "      <td>27/10/21</td>\n",
       "      <td>28.0</td>\n",
       "      <td>28.25</td>\n",
       "      <td>27.80</td>\n",
       "      <td>28.0</td>\n",
       "      <td>0.0</td>\n",
       "      <td>0.00</td>\n",
       "      <td>3,691,241</td>\n",
       "      <td>2,756</td>\n",
       "    </tr>\n",
       "    <tr>\n",
       "      <th>3</th>\n",
       "      <td>26/10/21</td>\n",
       "      <td>28.5</td>\n",
       "      <td>28.65</td>\n",
       "      <td>27.85</td>\n",
       "      <td>28.0</td>\n",
       "      <td>-0.5</td>\n",
       "      <td>-1.75</td>\n",
       "      <td>6,262,346</td>\n",
       "      <td>3,975</td>\n",
       "    </tr>\n",
       "    <tr>\n",
       "      <th>4</th>\n",
       "      <td>25/10/21</td>\n",
       "      <td>27.6</td>\n",
       "      <td>28.60</td>\n",
       "      <td>27.55</td>\n",
       "      <td>28.5</td>\n",
       "      <td>0.9</td>\n",
       "      <td>3.26</td>\n",
       "      <td>8,892,974</td>\n",
       "      <td>5,841</td>\n",
       "    </tr>\n",
       "  </tbody>\n",
       "</table>\n",
       "</div>"
      ],
      "text/plain": [
       "       date  open   high    low  close  change  changePer     Volume tradesNum\n",
       "0  31/10/21  28.5  29.40  28.50   29.4     0.9       3.16  7,830,080     4,086\n",
       "1  28/10/21  27.8  28.60  27.80   28.5     0.5       1.79  3,921,144     2,927\n",
       "2  27/10/21  28.0  28.25  27.80   28.0     0.0       0.00  3,691,241     2,756\n",
       "3  26/10/21  28.5  28.65  27.85   28.0    -0.5      -1.75  6,262,346     3,975\n",
       "4  25/10/21  27.6  28.60  27.55   28.5     0.9       3.26  8,892,974     5,841"
      ]
     },
     "execution_count": 7,
     "metadata": {},
     "output_type": "execute_result"
    }
   ],
   "source": [
    "elec.head()"
   ]
  },
  {
   "cell_type": "code",
   "execution_count": 53,
   "id": "175fb8ce",
   "metadata": {},
   "outputs": [
    {
     "data": {
      "text/html": [
       "<div>\n",
       "<style scoped>\n",
       "    .dataframe tbody tr th:only-of-type {\n",
       "        vertical-align: middle;\n",
       "    }\n",
       "\n",
       "    .dataframe tbody tr th {\n",
       "        vertical-align: top;\n",
       "    }\n",
       "\n",
       "    .dataframe thead th {\n",
       "        text-align: right;\n",
       "    }\n",
       "</style>\n",
       "<table border=\"1\" class=\"dataframe\">\n",
       "  <thead>\n",
       "    <tr style=\"text-align: right;\">\n",
       "      <th></th>\n",
       "      <th>date</th>\n",
       "      <th>open</th>\n",
       "      <th>high</th>\n",
       "      <th>low</th>\n",
       "      <th>close</th>\n",
       "      <th>change</th>\n",
       "      <th>changePer</th>\n",
       "      <th>Volume</th>\n",
       "      <th>tradesNum</th>\n",
       "    </tr>\n",
       "  </thead>\n",
       "  <tbody>\n",
       "    <tr>\n",
       "      <th>0</th>\n",
       "      <td>31/10/21</td>\n",
       "      <td>116.6</td>\n",
       "      <td>116.6</td>\n",
       "      <td>115.0</td>\n",
       "      <td>115.2</td>\n",
       "      <td>-1.8</td>\n",
       "      <td>-1.54</td>\n",
       "      <td>711,066</td>\n",
       "      <td>4,557</td>\n",
       "    </tr>\n",
       "    <tr>\n",
       "      <th>1</th>\n",
       "      <td>28/10/21</td>\n",
       "      <td>117.0</td>\n",
       "      <td>117.2</td>\n",
       "      <td>115.6</td>\n",
       "      <td>117.0</td>\n",
       "      <td>0.0</td>\n",
       "      <td>0.00</td>\n",
       "      <td>1,333,737</td>\n",
       "      <td>4,876</td>\n",
       "    </tr>\n",
       "    <tr>\n",
       "      <th>2</th>\n",
       "      <td>27/10/21</td>\n",
       "      <td>117.8</td>\n",
       "      <td>117.8</td>\n",
       "      <td>117.0</td>\n",
       "      <td>117.0</td>\n",
       "      <td>-0.2</td>\n",
       "      <td>-0.17</td>\n",
       "      <td>885,464</td>\n",
       "      <td>4,444</td>\n",
       "    </tr>\n",
       "    <tr>\n",
       "      <th>3</th>\n",
       "      <td>26/10/21</td>\n",
       "      <td>119.0</td>\n",
       "      <td>119.8</td>\n",
       "      <td>117.2</td>\n",
       "      <td>117.2</td>\n",
       "      <td>-2.0</td>\n",
       "      <td>-1.68</td>\n",
       "      <td>1,763,426</td>\n",
       "      <td>5,442</td>\n",
       "    </tr>\n",
       "    <tr>\n",
       "      <th>4</th>\n",
       "      <td>25/10/21</td>\n",
       "      <td>119.8</td>\n",
       "      <td>120.2</td>\n",
       "      <td>119.0</td>\n",
       "      <td>119.2</td>\n",
       "      <td>-0.2</td>\n",
       "      <td>-0.17</td>\n",
       "      <td>878,425</td>\n",
       "      <td>2,872</td>\n",
       "    </tr>\n",
       "  </tbody>\n",
       "</table>\n",
       "</div>"
      ],
      "text/plain": [
       "       date   open   high    low  close  change  changePer     Volume  \\\n",
       "0  31/10/21  116.6  116.6  115.0  115.2    -1.8      -1.54    711,066   \n",
       "1  28/10/21  117.0  117.2  115.6  117.0     0.0       0.00  1,333,737   \n",
       "2  27/10/21  117.8  117.8  117.0  117.0    -0.2      -0.17    885,464   \n",
       "3  26/10/21  119.0  119.8  117.2  117.2    -2.0      -1.68  1,763,426   \n",
       "4  25/10/21  119.8  120.2  119.0  119.2    -0.2      -0.17    878,425   \n",
       "\n",
       "  tradesNum  \n",
       "0     4,557  \n",
       "1     4,876  \n",
       "2     4,444  \n",
       "3     5,442  \n",
       "4     2,872  "
      ]
     },
     "execution_count": 53,
     "metadata": {},
     "output_type": "execute_result"
    }
   ],
   "source": [
    "stc.head()"
   ]
  },
  {
   "cell_type": "code",
   "execution_count": 12,
   "id": "26ee71e6",
   "metadata": {},
   "outputs": [
    {
     "data": {
      "text/plain": [
       "(2516, 9)"
      ]
     },
     "execution_count": 12,
     "metadata": {},
     "output_type": "execute_result"
    }
   ],
   "source": [
    "rajhi.shape"
   ]
  },
  {
   "cell_type": "code",
   "execution_count": 13,
   "id": "cfa16604",
   "metadata": {},
   "outputs": [
    {
     "data": {
      "text/plain": [
       "(2516, 9)"
      ]
     },
     "execution_count": 13,
     "metadata": {},
     "output_type": "execute_result"
    }
   ],
   "source": [
    "sabic.shape"
   ]
  },
  {
   "cell_type": "code",
   "execution_count": 14,
   "id": "b47507d2",
   "metadata": {},
   "outputs": [
    {
     "data": {
      "text/plain": [
       "(2516, 9)"
      ]
     },
     "execution_count": 14,
     "metadata": {},
     "output_type": "execute_result"
    }
   ],
   "source": [
    "elec.shape"
   ]
  },
  {
   "cell_type": "code",
   "execution_count": 54,
   "id": "fde7fe0d",
   "metadata": {},
   "outputs": [
    {
     "data": {
      "text/plain": [
       "(2516, 9)"
      ]
     },
     "execution_count": 54,
     "metadata": {},
     "output_type": "execute_result"
    }
   ],
   "source": [
    "stc.shape"
   ]
  },
  {
   "cell_type": "code",
   "execution_count": 19,
   "id": "35538fab",
   "metadata": {},
   "outputs": [
    {
     "name": "stdout",
     "output_type": "stream",
     "text": [
      "<class 'pandas.core.frame.DataFrame'>\n",
      "RangeIndex: 2516 entries, 0 to 2515\n",
      "Data columns (total 9 columns):\n",
      " #   Column     Non-Null Count  Dtype  \n",
      "---  ------     --------------  -----  \n",
      " 0   date       2516 non-null   object \n",
      " 1   open       2516 non-null   float64\n",
      " 2   high       2516 non-null   float64\n",
      " 3   low        2516 non-null   float64\n",
      " 4   close      2516 non-null   float64\n",
      " 5   change     2516 non-null   float64\n",
      " 6   changePer  2516 non-null   float64\n",
      " 7   Volume     2516 non-null   object \n",
      " 8   tradesNum  2516 non-null   object \n",
      "dtypes: float64(6), object(3)\n",
      "memory usage: 177.0+ KB\n"
     ]
    }
   ],
   "source": [
    "rajhi.info()"
   ]
  },
  {
   "cell_type": "markdown",
   "id": "f33030b9",
   "metadata": {},
   "source": [
    "### STEP 2: Cleaning & converting DATA "
   ]
  },
  {
   "cell_type": "code",
   "execution_count": 23,
   "id": "e988bffb",
   "metadata": {},
   "outputs": [
    {
     "data": {
      "text/plain": [
       "date          06/08/15\n",
       "open              41.3\n",
       "high              41.3\n",
       "low              40.49\n",
       "close            40.62\n",
       "change           -0.79\n",
       "changePer        -1.91\n",
       "Volume       2,479,246\n",
       "tradesNum          925\n",
       "Name: 1555, dtype: object"
      ]
     },
     "execution_count": 23,
     "metadata": {},
     "output_type": "execute_result"
    }
   ],
   "source": [
    "rajhi.iloc[1555]"
   ]
  },
  {
   "cell_type": "code",
   "execution_count": 24,
   "id": "b3d02570",
   "metadata": {},
   "outputs": [
    {
     "data": {
      "text/plain": [
       "date         0\n",
       "open         0\n",
       "high         0\n",
       "low          0\n",
       "close        0\n",
       "change       0\n",
       "changePer    0\n",
       "Volume       0\n",
       "tradesNum    0\n",
       "dtype: int64"
      ]
     },
     "execution_count": 24,
     "metadata": {},
     "output_type": "execute_result"
    }
   ],
   "source": [
    "rajhi.isna().sum()"
   ]
  },
  {
   "cell_type": "code",
   "execution_count": 27,
   "id": "284ba129",
   "metadata": {},
   "outputs": [],
   "source": [
    "rajhi['date']=pd.to_datetime(rajhi['date'])"
   ]
  },
  {
   "cell_type": "code",
   "execution_count": 29,
   "id": "696995e2",
   "metadata": {},
   "outputs": [],
   "source": [
    "#itrate through the string and remove commas \n",
    "def clean(string):\n",
    "    cleaned = ''\n",
    "    for s in string:\n",
    "        if s != ',':\n",
    "            cleaned +=s\n",
    "    return float(cleaned)"
   ]
  },
  {
   "cell_type": "code",
   "execution_count": 118,
   "id": "8ee99da3",
   "metadata": {},
   "outputs": [],
   "source": [
    "rajhi['Volume']=rajhi['Volume'].apply(clean)"
   ]
  },
  {
   "cell_type": "code",
   "execution_count": 119,
   "id": "feebde8b",
   "metadata": {},
   "outputs": [],
   "source": [
    "rajhi['tradesNum']=rajhi['tradesNum'].apply(clean)"
   ]
  },
  {
   "cell_type": "code",
   "execution_count": 120,
   "id": "55ecf240",
   "metadata": {},
   "outputs": [
    {
     "data": {
      "text/plain": [
       "open         float64\n",
       "high         float64\n",
       "low          float64\n",
       "close        float64\n",
       "change       float64\n",
       "changePer    float64\n",
       "Volume       float64\n",
       "tradesNum    float64\n",
       "dtype: object"
      ]
     },
     "execution_count": 120,
     "metadata": {},
     "output_type": "execute_result"
    }
   ],
   "source": [
    "rajhi.dtypes"
   ]
  },
  {
   "cell_type": "code",
   "execution_count": 20,
   "id": "1d6e97ae",
   "metadata": {},
   "outputs": [
    {
     "name": "stdout",
     "output_type": "stream",
     "text": [
      "<class 'pandas.core.frame.DataFrame'>\n",
      "RangeIndex: 2516 entries, 0 to 2515\n",
      "Data columns (total 9 columns):\n",
      " #   Column     Non-Null Count  Dtype  \n",
      "---  ------     --------------  -----  \n",
      " 0   date       2516 non-null   object \n",
      " 1   open       2516 non-null   float64\n",
      " 2   high       2516 non-null   float64\n",
      " 3   low        2516 non-null   float64\n",
      " 4   close      2516 non-null   float64\n",
      " 5   change     2516 non-null   float64\n",
      " 6   changePer  2516 non-null   float64\n",
      " 7   Volume     2516 non-null   object \n",
      " 8   tradesNum  2516 non-null   object \n",
      "dtypes: float64(6), object(3)\n",
      "memory usage: 177.0+ KB\n"
     ]
    }
   ],
   "source": [
    "sabic.info()"
   ]
  },
  {
   "cell_type": "code",
   "execution_count": 34,
   "id": "7ca82534",
   "metadata": {},
   "outputs": [
    {
     "data": {
      "text/plain": [
       "date         0\n",
       "open         0\n",
       "high         0\n",
       "low          0\n",
       "close        0\n",
       "change       0\n",
       "changePer    0\n",
       "Volume       0\n",
       "tradesNum    0\n",
       "dtype: int64"
      ]
     },
     "execution_count": 34,
     "metadata": {},
     "output_type": "execute_result"
    }
   ],
   "source": [
    "sabic.isna().sum()"
   ]
  },
  {
   "cell_type": "code",
   "execution_count": 35,
   "id": "cd096528",
   "metadata": {},
   "outputs": [],
   "source": [
    "sabic['date']=pd.to_datetime(sabic['date'])"
   ]
  },
  {
   "cell_type": "code",
   "execution_count": 115,
   "id": "69cc0591",
   "metadata": {},
   "outputs": [],
   "source": [
    "sabic['Volume']=sabic['Volume'].apply(clean)"
   ]
  },
  {
   "cell_type": "code",
   "execution_count": 116,
   "id": "fde4beaa",
   "metadata": {},
   "outputs": [],
   "source": [
    "sabic['tradesNum']=sabic['tradesNum'].apply(clean)"
   ]
  },
  {
   "cell_type": "code",
   "execution_count": 117,
   "id": "631afa2e",
   "metadata": {},
   "outputs": [
    {
     "data": {
      "text/plain": [
       "open         float64\n",
       "high         float64\n",
       "low          float64\n",
       "close        float64\n",
       "change       float64\n",
       "changePer    float64\n",
       "Volume       float64\n",
       "tradesNum    float64\n",
       "dtype: object"
      ]
     },
     "execution_count": 117,
     "metadata": {},
     "output_type": "execute_result"
    }
   ],
   "source": [
    "sabic.dtypes"
   ]
  },
  {
   "cell_type": "code",
   "execution_count": 21,
   "id": "6d09592b",
   "metadata": {},
   "outputs": [
    {
     "name": "stdout",
     "output_type": "stream",
     "text": [
      "<class 'pandas.core.frame.DataFrame'>\n",
      "RangeIndex: 2516 entries, 0 to 2515\n",
      "Data columns (total 9 columns):\n",
      " #   Column     Non-Null Count  Dtype  \n",
      "---  ------     --------------  -----  \n",
      " 0   date       2516 non-null   object \n",
      " 1   open       2516 non-null   float64\n",
      " 2   high       2516 non-null   float64\n",
      " 3   low        2516 non-null   float64\n",
      " 4   close      2516 non-null   float64\n",
      " 5   change     2516 non-null   float64\n",
      " 6   changePer  2516 non-null   float64\n",
      " 7   Volume     2516 non-null   object \n",
      " 8   tradesNum  2516 non-null   object \n",
      "dtypes: float64(6), object(3)\n",
      "memory usage: 177.0+ KB\n"
     ]
    }
   ],
   "source": [
    "elec.info()"
   ]
  },
  {
   "cell_type": "code",
   "execution_count": 39,
   "id": "5c255596",
   "metadata": {},
   "outputs": [
    {
     "data": {
      "text/plain": [
       "date         0\n",
       "open         0\n",
       "high         0\n",
       "low          0\n",
       "close        0\n",
       "change       0\n",
       "changePer    0\n",
       "Volume       0\n",
       "tradesNum    0\n",
       "dtype: int64"
      ]
     },
     "execution_count": 39,
     "metadata": {},
     "output_type": "execute_result"
    }
   ],
   "source": [
    "elec.isna().sum()"
   ]
  },
  {
   "cell_type": "code",
   "execution_count": 40,
   "id": "8bdbdc88",
   "metadata": {},
   "outputs": [],
   "source": [
    "elec['date']=pd.to_datetime(elec['date'])"
   ]
  },
  {
   "cell_type": "code",
   "execution_count": 112,
   "id": "6c254204",
   "metadata": {},
   "outputs": [],
   "source": [
    "elec['Volume']=elec['Volume'].apply(clean)"
   ]
  },
  {
   "cell_type": "code",
   "execution_count": 113,
   "id": "94547aa2",
   "metadata": {},
   "outputs": [],
   "source": [
    "elec['tradesNum']=elec['tradesNum'].apply(clean)"
   ]
  },
  {
   "cell_type": "code",
   "execution_count": 114,
   "id": "c1355004",
   "metadata": {},
   "outputs": [
    {
     "data": {
      "text/plain": [
       "open         float64\n",
       "high         float64\n",
       "low          float64\n",
       "close        float64\n",
       "change       float64\n",
       "changePer    float64\n",
       "Volume       float64\n",
       "tradesNum    float64\n",
       "dtype: object"
      ]
     },
     "execution_count": 114,
     "metadata": {},
     "output_type": "execute_result"
    }
   ],
   "source": [
    "elec.dtypes"
   ]
  },
  {
   "cell_type": "code",
   "execution_count": 65,
   "id": "23a36530",
   "metadata": {},
   "outputs": [
    {
     "name": "stdout",
     "output_type": "stream",
     "text": [
      "<class 'pandas.core.frame.DataFrame'>\n",
      "RangeIndex: 2516 entries, 0 to 2515\n",
      "Data columns (total 9 columns):\n",
      " #   Column     Non-Null Count  Dtype         \n",
      "---  ------     --------------  -----         \n",
      " 0   date       2516 non-null   datetime64[ns]\n",
      " 1   open       2516 non-null   float64       \n",
      " 2   high       2516 non-null   object        \n",
      " 3   low        2516 non-null   float64       \n",
      " 4   close      2516 non-null   float64       \n",
      " 5   change     2516 non-null   float64       \n",
      " 6   changePer  2516 non-null   float64       \n",
      " 7   Volume     2516 non-null   object        \n",
      " 8   tradesNum  2516 non-null   object        \n",
      "dtypes: datetime64[ns](1), float64(5), object(3)\n",
      "memory usage: 177.0+ KB\n"
     ]
    }
   ],
   "source": [
    "stc.info()"
   ]
  },
  {
   "cell_type": "code",
   "execution_count": 56,
   "id": "82f223b8",
   "metadata": {},
   "outputs": [
    {
     "data": {
      "text/plain": [
       "date         0\n",
       "open         0\n",
       "high         0\n",
       "low          0\n",
       "close        0\n",
       "change       0\n",
       "changePer    0\n",
       "Volume       0\n",
       "tradesNum    0\n",
       "dtype: int64"
      ]
     },
     "execution_count": 56,
     "metadata": {},
     "output_type": "execute_result"
    }
   ],
   "source": [
    "stc.isna().sum()"
   ]
  },
  {
   "cell_type": "code",
   "execution_count": 57,
   "id": "1f15fc7f",
   "metadata": {},
   "outputs": [],
   "source": [
    "stc['date']=pd.to_datetime(stc['date'])"
   ]
  },
  {
   "cell_type": "code",
   "execution_count": 66,
   "id": "cae44f4b",
   "metadata": {},
   "outputs": [],
   "source": [
    "stc['high']=pd.to_numeric(stc['high'],errors='coerce')"
   ]
  },
  {
   "cell_type": "code",
   "execution_count": 67,
   "id": "b028e809",
   "metadata": {},
   "outputs": [],
   "source": [
    "stc['Volume']=stc['Volume'].apply(clean)"
   ]
  },
  {
   "cell_type": "code",
   "execution_count": 68,
   "id": "543b7f04",
   "metadata": {},
   "outputs": [],
   "source": [
    "stc['tradesNum']=stc['tradesNum'].apply(clean)"
   ]
  },
  {
   "cell_type": "code",
   "execution_count": 69,
   "id": "05a3e5ff",
   "metadata": {},
   "outputs": [
    {
     "data": {
      "text/plain": [
       "date         datetime64[ns]\n",
       "open                float64\n",
       "high                float64\n",
       "low                 float64\n",
       "close               float64\n",
       "change              float64\n",
       "changePer           float64\n",
       "Volume              float64\n",
       "tradesNum           float64\n",
       "dtype: object"
      ]
     },
     "execution_count": 69,
     "metadata": {},
     "output_type": "execute_result"
    }
   ],
   "source": [
    "stc.dtypes"
   ]
  },
  {
   "cell_type": "code",
   "execution_count": 70,
   "id": "6b136614",
   "metadata": {},
   "outputs": [
    {
     "data": {
      "text/html": [
       "<div>\n",
       "<style scoped>\n",
       "    .dataframe tbody tr th:only-of-type {\n",
       "        vertical-align: middle;\n",
       "    }\n",
       "\n",
       "    .dataframe tbody tr th {\n",
       "        vertical-align: top;\n",
       "    }\n",
       "\n",
       "    .dataframe thead th {\n",
       "        text-align: right;\n",
       "    }\n",
       "</style>\n",
       "<table border=\"1\" class=\"dataframe\">\n",
       "  <thead>\n",
       "    <tr style=\"text-align: right;\">\n",
       "      <th></th>\n",
       "      <th>date</th>\n",
       "      <th>open</th>\n",
       "      <th>high</th>\n",
       "      <th>low</th>\n",
       "      <th>close</th>\n",
       "      <th>change</th>\n",
       "      <th>changePer</th>\n",
       "      <th>Volume</th>\n",
       "      <th>tradesNum</th>\n",
       "    </tr>\n",
       "  </thead>\n",
       "  <tbody>\n",
       "    <tr>\n",
       "      <th>1364</th>\n",
       "      <td>08/05/16</td>\n",
       "      <td>38.21</td>\n",
       "      <td>38.70</td>\n",
       "      <td>38.05</td>\n",
       "      <td>38.35</td>\n",
       "      <td>0.44</td>\n",
       "      <td>1.16</td>\n",
       "      <td>3,385,940</td>\n",
       "      <td>1,166</td>\n",
       "    </tr>\n",
       "    <tr>\n",
       "      <th>410</th>\n",
       "      <td>05/03/20</td>\n",
       "      <td>61.70</td>\n",
       "      <td>61.70</td>\n",
       "      <td>60.60</td>\n",
       "      <td>61.00</td>\n",
       "      <td>-0.30</td>\n",
       "      <td>-0.49</td>\n",
       "      <td>8,101,466</td>\n",
       "      <td>5,023</td>\n",
       "    </tr>\n",
       "    <tr>\n",
       "      <th>1389</th>\n",
       "      <td>03/04/16</td>\n",
       "      <td>33.66</td>\n",
       "      <td>33.66</td>\n",
       "      <td>32.52</td>\n",
       "      <td>33.49</td>\n",
       "      <td>-0.25</td>\n",
       "      <td>-0.74</td>\n",
       "      <td>3,595,905</td>\n",
       "      <td>1,091</td>\n",
       "    </tr>\n",
       "    <tr>\n",
       "      <th>1695</th>\n",
       "      <td>15/01/15</td>\n",
       "      <td>35.77</td>\n",
       "      <td>36.26</td>\n",
       "      <td>34.79</td>\n",
       "      <td>34.98</td>\n",
       "      <td>-1.96</td>\n",
       "      <td>-5.31</td>\n",
       "      <td>9,595,044</td>\n",
       "      <td>3,724</td>\n",
       "    </tr>\n",
       "    <tr>\n",
       "      <th>2060</th>\n",
       "      <td>22/07/13</td>\n",
       "      <td>45.20</td>\n",
       "      <td>46.18</td>\n",
       "      <td>45.20</td>\n",
       "      <td>45.93</td>\n",
       "      <td>0.76</td>\n",
       "      <td>1.68</td>\n",
       "      <td>3,073,561</td>\n",
       "      <td>917</td>\n",
       "    </tr>\n",
       "  </tbody>\n",
       "</table>\n",
       "</div>"
      ],
      "text/plain": [
       "          date   open   high    low  close  change  changePer     Volume  \\\n",
       "1364  08/05/16  38.21  38.70  38.05  38.35    0.44       1.16  3,385,940   \n",
       "410   05/03/20  61.70  61.70  60.60  61.00   -0.30      -0.49  8,101,466   \n",
       "1389  03/04/16  33.66  33.66  32.52  33.49   -0.25      -0.74  3,595,905   \n",
       "1695  15/01/15  35.77  36.26  34.79  34.98   -1.96      -5.31  9,595,044   \n",
       "2060  22/07/13  45.20  46.18  45.20  45.93    0.76       1.68  3,073,561   \n",
       "\n",
       "     tradesNum  \n",
       "1364     1,166  \n",
       "410      5,023  \n",
       "1389     1,091  \n",
       "1695     3,724  \n",
       "2060       917  "
      ]
     },
     "execution_count": 70,
     "metadata": {},
     "output_type": "execute_result"
    }
   ],
   "source": [
    "rajhi.sample(5)"
   ]
  },
  {
   "cell_type": "code",
   "execution_count": 71,
   "id": "189432b2",
   "metadata": {},
   "outputs": [
    {
     "data": {
      "text/html": [
       "<div>\n",
       "<style scoped>\n",
       "    .dataframe tbody tr th:only-of-type {\n",
       "        vertical-align: middle;\n",
       "    }\n",
       "\n",
       "    .dataframe tbody tr th {\n",
       "        vertical-align: top;\n",
       "    }\n",
       "\n",
       "    .dataframe thead th {\n",
       "        text-align: right;\n",
       "    }\n",
       "</style>\n",
       "<table border=\"1\" class=\"dataframe\">\n",
       "  <thead>\n",
       "    <tr style=\"text-align: right;\">\n",
       "      <th></th>\n",
       "      <th>date</th>\n",
       "      <th>open</th>\n",
       "      <th>high</th>\n",
       "      <th>low</th>\n",
       "      <th>close</th>\n",
       "      <th>change</th>\n",
       "      <th>changePer</th>\n",
       "      <th>Volume</th>\n",
       "      <th>tradesNum</th>\n",
       "    </tr>\n",
       "  </thead>\n",
       "  <tbody>\n",
       "    <tr>\n",
       "      <th>1215</th>\n",
       "      <td>18/12/16</td>\n",
       "      <td>94.75</td>\n",
       "      <td>96.25</td>\n",
       "      <td>94.50</td>\n",
       "      <td>95.19</td>\n",
       "      <td>0.75</td>\n",
       "      <td>0.79</td>\n",
       "      <td>4,794,663</td>\n",
       "      <td>3,075</td>\n",
       "    </tr>\n",
       "    <tr>\n",
       "      <th>1566</th>\n",
       "      <td>22/07/15</td>\n",
       "      <td>101.75</td>\n",
       "      <td>102.25</td>\n",
       "      <td>99.75</td>\n",
       "      <td>99.92</td>\n",
       "      <td>-1.86</td>\n",
       "      <td>-1.83</td>\n",
       "      <td>4,828,713</td>\n",
       "      <td>3,179</td>\n",
       "    </tr>\n",
       "    <tr>\n",
       "      <th>976</th>\n",
       "      <td>03/12/17</td>\n",
       "      <td>101.20</td>\n",
       "      <td>101.80</td>\n",
       "      <td>101.20</td>\n",
       "      <td>101.50</td>\n",
       "      <td>0.95</td>\n",
       "      <td>0.94</td>\n",
       "      <td>5,183,888</td>\n",
       "      <td>3,803</td>\n",
       "    </tr>\n",
       "    <tr>\n",
       "      <th>450</th>\n",
       "      <td>09/01/20</td>\n",
       "      <td>91.30</td>\n",
       "      <td>92.00</td>\n",
       "      <td>91.30</td>\n",
       "      <td>92.00</td>\n",
       "      <td>1.50</td>\n",
       "      <td>1.66</td>\n",
       "      <td>1,770,479</td>\n",
       "      <td>2,703</td>\n",
       "    </tr>\n",
       "    <tr>\n",
       "      <th>1663</th>\n",
       "      <td>03/03/15</td>\n",
       "      <td>91.25</td>\n",
       "      <td>93.25</td>\n",
       "      <td>91.25</td>\n",
       "      <td>93.04</td>\n",
       "      <td>1.07</td>\n",
       "      <td>1.16</td>\n",
       "      <td>3,372,968</td>\n",
       "      <td>2,748</td>\n",
       "    </tr>\n",
       "  </tbody>\n",
       "</table>\n",
       "</div>"
      ],
      "text/plain": [
       "          date    open    high     low   close  change  changePer     Volume  \\\n",
       "1215  18/12/16   94.75   96.25   94.50   95.19    0.75       0.79  4,794,663   \n",
       "1566  22/07/15  101.75  102.25   99.75   99.92   -1.86      -1.83  4,828,713   \n",
       "976   03/12/17  101.20  101.80  101.20  101.50    0.95       0.94  5,183,888   \n",
       "450   09/01/20   91.30   92.00   91.30   92.00    1.50       1.66  1,770,479   \n",
       "1663  03/03/15   91.25   93.25   91.25   93.04    1.07       1.16  3,372,968   \n",
       "\n",
       "     tradesNum  \n",
       "1215     3,075  \n",
       "1566     3,179  \n",
       "976      3,803  \n",
       "450      2,703  \n",
       "1663     2,748  "
      ]
     },
     "execution_count": 71,
     "metadata": {},
     "output_type": "execute_result"
    }
   ],
   "source": [
    "sabic.sample(5)"
   ]
  },
  {
   "cell_type": "code",
   "execution_count": 72,
   "id": "6d5cd64b",
   "metadata": {},
   "outputs": [
    {
     "data": {
      "text/html": [
       "<div>\n",
       "<style scoped>\n",
       "    .dataframe tbody tr th:only-of-type {\n",
       "        vertical-align: middle;\n",
       "    }\n",
       "\n",
       "    .dataframe tbody tr th {\n",
       "        vertical-align: top;\n",
       "    }\n",
       "\n",
       "    .dataframe thead th {\n",
       "        text-align: right;\n",
       "    }\n",
       "</style>\n",
       "<table border=\"1\" class=\"dataframe\">\n",
       "  <thead>\n",
       "    <tr style=\"text-align: right;\">\n",
       "      <th></th>\n",
       "      <th>date</th>\n",
       "      <th>open</th>\n",
       "      <th>high</th>\n",
       "      <th>low</th>\n",
       "      <th>close</th>\n",
       "      <th>change</th>\n",
       "      <th>changePer</th>\n",
       "      <th>Volume</th>\n",
       "      <th>tradesNum</th>\n",
       "    </tr>\n",
       "  </thead>\n",
       "  <tbody>\n",
       "    <tr>\n",
       "      <th>1772</th>\n",
       "      <td>22/09/14</td>\n",
       "      <td>17.80</td>\n",
       "      <td>17.80</td>\n",
       "      <td>17.65</td>\n",
       "      <td>17.69</td>\n",
       "      <td>-0.12</td>\n",
       "      <td>-0.67</td>\n",
       "      <td>2,524,248</td>\n",
       "      <td>559</td>\n",
       "    </tr>\n",
       "    <tr>\n",
       "      <th>1220</th>\n",
       "      <td>11/12/16</td>\n",
       "      <td>19.35</td>\n",
       "      <td>19.60</td>\n",
       "      <td>19.30</td>\n",
       "      <td>19.51</td>\n",
       "      <td>0.31</td>\n",
       "      <td>1.61</td>\n",
       "      <td>2,535,172</td>\n",
       "      <td>1,108</td>\n",
       "    </tr>\n",
       "    <tr>\n",
       "      <th>197</th>\n",
       "      <td>13/01/21</td>\n",
       "      <td>22.20</td>\n",
       "      <td>22.22</td>\n",
       "      <td>22.00</td>\n",
       "      <td>22.10</td>\n",
       "      <td>-0.08</td>\n",
       "      <td>-0.36</td>\n",
       "      <td>1,619,944</td>\n",
       "      <td>977</td>\n",
       "    </tr>\n",
       "    <tr>\n",
       "      <th>1141</th>\n",
       "      <td>30/03/17</td>\n",
       "      <td>22.85</td>\n",
       "      <td>23.25</td>\n",
       "      <td>22.85</td>\n",
       "      <td>23.18</td>\n",
       "      <td>0.35</td>\n",
       "      <td>1.53</td>\n",
       "      <td>1,764,580</td>\n",
       "      <td>961</td>\n",
       "    </tr>\n",
       "    <tr>\n",
       "      <th>1395</th>\n",
       "      <td>24/03/16</td>\n",
       "      <td>16.50</td>\n",
       "      <td>16.65</td>\n",
       "      <td>16.30</td>\n",
       "      <td>16.36</td>\n",
       "      <td>-0.10</td>\n",
       "      <td>-0.61</td>\n",
       "      <td>1,038,396</td>\n",
       "      <td>245</td>\n",
       "    </tr>\n",
       "  </tbody>\n",
       "</table>\n",
       "</div>"
      ],
      "text/plain": [
       "          date   open   high    low  close  change  changePer     Volume  \\\n",
       "1772  22/09/14  17.80  17.80  17.65  17.69   -0.12      -0.67  2,524,248   \n",
       "1220  11/12/16  19.35  19.60  19.30  19.51    0.31       1.61  2,535,172   \n",
       "197   13/01/21  22.20  22.22  22.00  22.10   -0.08      -0.36  1,619,944   \n",
       "1141  30/03/17  22.85  23.25  22.85  23.18    0.35       1.53  1,764,580   \n",
       "1395  24/03/16  16.50  16.65  16.30  16.36   -0.10      -0.61  1,038,396   \n",
       "\n",
       "     tradesNum  \n",
       "1772       559  \n",
       "1220     1,108  \n",
       "197        977  \n",
       "1141       961  \n",
       "1395       245  "
      ]
     },
     "execution_count": 72,
     "metadata": {},
     "output_type": "execute_result"
    }
   ],
   "source": [
    "elec.sample(5)"
   ]
  },
  {
   "cell_type": "code",
   "execution_count": 73,
   "id": "711644df",
   "metadata": {},
   "outputs": [
    {
     "data": {
      "text/html": [
       "<div>\n",
       "<style scoped>\n",
       "    .dataframe tbody tr th:only-of-type {\n",
       "        vertical-align: middle;\n",
       "    }\n",
       "\n",
       "    .dataframe tbody tr th {\n",
       "        vertical-align: top;\n",
       "    }\n",
       "\n",
       "    .dataframe thead th {\n",
       "        text-align: right;\n",
       "    }\n",
       "</style>\n",
       "<table border=\"1\" class=\"dataframe\">\n",
       "  <thead>\n",
       "    <tr style=\"text-align: right;\">\n",
       "      <th></th>\n",
       "      <th>date</th>\n",
       "      <th>open</th>\n",
       "      <th>high</th>\n",
       "      <th>low</th>\n",
       "      <th>close</th>\n",
       "      <th>change</th>\n",
       "      <th>changePer</th>\n",
       "      <th>Volume</th>\n",
       "      <th>tradesNum</th>\n",
       "    </tr>\n",
       "  </thead>\n",
       "  <tbody>\n",
       "    <tr>\n",
       "      <th>1257</th>\n",
       "      <td>2016-10-19</td>\n",
       "      <td>53.0</td>\n",
       "      <td>53.75</td>\n",
       "      <td>53.0</td>\n",
       "      <td>53.47</td>\n",
       "      <td>0.44</td>\n",
       "      <td>0.83</td>\n",
       "      <td>521606.0</td>\n",
       "      <td>197.0</td>\n",
       "    </tr>\n",
       "    <tr>\n",
       "      <th>971</th>\n",
       "      <td>2017-10-12</td>\n",
       "      <td>69.6</td>\n",
       "      <td>69.60</td>\n",
       "      <td>68.6</td>\n",
       "      <td>68.89</td>\n",
       "      <td>-0.63</td>\n",
       "      <td>-0.91</td>\n",
       "      <td>304693.0</td>\n",
       "      <td>324.0</td>\n",
       "    </tr>\n",
       "    <tr>\n",
       "      <th>2274</th>\n",
       "      <td>2012-09-16</td>\n",
       "      <td>40.3</td>\n",
       "      <td>40.40</td>\n",
       "      <td>40.2</td>\n",
       "      <td>40.40</td>\n",
       "      <td>0.00</td>\n",
       "      <td>0.00</td>\n",
       "      <td>837724.0</td>\n",
       "      <td>231.0</td>\n",
       "    </tr>\n",
       "    <tr>\n",
       "      <th>477</th>\n",
       "      <td>2019-03-12</td>\n",
       "      <td>91.4</td>\n",
       "      <td>92.40</td>\n",
       "      <td>91.1</td>\n",
       "      <td>92.30</td>\n",
       "      <td>0.90</td>\n",
       "      <td>0.98</td>\n",
       "      <td>1535907.0</td>\n",
       "      <td>2511.0</td>\n",
       "    </tr>\n",
       "    <tr>\n",
       "      <th>546</th>\n",
       "      <td>2019-08-27</td>\n",
       "      <td>106.6</td>\n",
       "      <td>107.40</td>\n",
       "      <td>99.2</td>\n",
       "      <td>103.80</td>\n",
       "      <td>-2.20</td>\n",
       "      <td>-2.08</td>\n",
       "      <td>20910959.0</td>\n",
       "      <td>12388.0</td>\n",
       "    </tr>\n",
       "  </tbody>\n",
       "</table>\n",
       "</div>"
      ],
      "text/plain": [
       "           date   open    high   low   close  change  changePer      Volume  \\\n",
       "1257 2016-10-19   53.0   53.75  53.0   53.47    0.44       0.83    521606.0   \n",
       "971  2017-10-12   69.6   69.60  68.6   68.89   -0.63      -0.91    304693.0   \n",
       "2274 2012-09-16   40.3   40.40  40.2   40.40    0.00       0.00    837724.0   \n",
       "477  2019-03-12   91.4   92.40  91.1   92.30    0.90       0.98   1535907.0   \n",
       "546  2019-08-27  106.6  107.40  99.2  103.80   -2.20      -2.08  20910959.0   \n",
       "\n",
       "      tradesNum  \n",
       "1257      197.0  \n",
       "971       324.0  \n",
       "2274      231.0  \n",
       "477      2511.0  \n",
       "546     12388.0  "
      ]
     },
     "execution_count": 73,
     "metadata": {},
     "output_type": "execute_result"
    }
   ],
   "source": [
    "stc.sample(5)"
   ]
  },
  {
   "cell_type": "code",
   "execution_count": 74,
   "id": "fc5833b0",
   "metadata": {},
   "outputs": [
    {
     "data": {
      "text/html": [
       "<div>\n",
       "<style scoped>\n",
       "    .dataframe tbody tr th:only-of-type {\n",
       "        vertical-align: middle;\n",
       "    }\n",
       "\n",
       "    .dataframe tbody tr th {\n",
       "        vertical-align: top;\n",
       "    }\n",
       "\n",
       "    .dataframe thead th {\n",
       "        text-align: right;\n",
       "    }\n",
       "</style>\n",
       "<table border=\"1\" class=\"dataframe\">\n",
       "  <thead>\n",
       "    <tr style=\"text-align: right;\">\n",
       "      <th></th>\n",
       "      <th>open</th>\n",
       "      <th>high</th>\n",
       "      <th>low</th>\n",
       "      <th>close</th>\n",
       "      <th>change</th>\n",
       "      <th>changePer</th>\n",
       "    </tr>\n",
       "  </thead>\n",
       "  <tbody>\n",
       "    <tr>\n",
       "      <th>count</th>\n",
       "      <td>2516.000000</td>\n",
       "      <td>2516.000000</td>\n",
       "      <td>2516.000000</td>\n",
       "      <td>2516.000000</td>\n",
       "      <td>2516.000000</td>\n",
       "      <td>2516.000000</td>\n",
       "    </tr>\n",
       "    <tr>\n",
       "      <th>mean</th>\n",
       "      <td>52.078998</td>\n",
       "      <td>52.542226</td>\n",
       "      <td>51.666021</td>\n",
       "      <td>52.108557</td>\n",
       "      <td>0.038720</td>\n",
       "      <td>0.056932</td>\n",
       "    </tr>\n",
       "    <tr>\n",
       "      <th>std</th>\n",
       "      <td>19.225871</td>\n",
       "      <td>19.410842</td>\n",
       "      <td>19.128193</td>\n",
       "      <td>19.292319</td>\n",
       "      <td>0.720694</td>\n",
       "      <td>1.328543</td>\n",
       "    </tr>\n",
       "    <tr>\n",
       "      <th>min</th>\n",
       "      <td>29.920000</td>\n",
       "      <td>29.920000</td>\n",
       "      <td>29.070000</td>\n",
       "      <td>29.500000</td>\n",
       "      <td>-4.600000</td>\n",
       "      <td>-8.110000</td>\n",
       "    </tr>\n",
       "    <tr>\n",
       "      <th>25%</th>\n",
       "      <td>40.970000</td>\n",
       "      <td>41.300000</td>\n",
       "      <td>40.650000</td>\n",
       "      <td>40.970000</td>\n",
       "      <td>-0.300000</td>\n",
       "      <td>-0.570000</td>\n",
       "    </tr>\n",
       "    <tr>\n",
       "      <th>50%</th>\n",
       "      <td>44.190000</td>\n",
       "      <td>44.390000</td>\n",
       "      <td>43.900000</td>\n",
       "      <td>44.275000</td>\n",
       "      <td>0.000000</td>\n",
       "      <td>0.000000</td>\n",
       "    </tr>\n",
       "    <tr>\n",
       "      <th>75%</th>\n",
       "      <td>58.000000</td>\n",
       "      <td>58.477500</td>\n",
       "      <td>57.600000</td>\n",
       "      <td>58.000000</td>\n",
       "      <td>0.310000</td>\n",
       "      <td>0.680000</td>\n",
       "    </tr>\n",
       "    <tr>\n",
       "      <th>max</th>\n",
       "      <td>142.000000</td>\n",
       "      <td>142.800000</td>\n",
       "      <td>141.000000</td>\n",
       "      <td>142.000000</td>\n",
       "      <td>4.800000</td>\n",
       "      <td>9.600000</td>\n",
       "    </tr>\n",
       "  </tbody>\n",
       "</table>\n",
       "</div>"
      ],
      "text/plain": [
       "              open         high          low        close       change  \\\n",
       "count  2516.000000  2516.000000  2516.000000  2516.000000  2516.000000   \n",
       "mean     52.078998    52.542226    51.666021    52.108557     0.038720   \n",
       "std      19.225871    19.410842    19.128193    19.292319     0.720694   \n",
       "min      29.920000    29.920000    29.070000    29.500000    -4.600000   \n",
       "25%      40.970000    41.300000    40.650000    40.970000    -0.300000   \n",
       "50%      44.190000    44.390000    43.900000    44.275000     0.000000   \n",
       "75%      58.000000    58.477500    57.600000    58.000000     0.310000   \n",
       "max     142.000000   142.800000   141.000000   142.000000     4.800000   \n",
       "\n",
       "         changePer  \n",
       "count  2516.000000  \n",
       "mean      0.056932  \n",
       "std       1.328543  \n",
       "min      -8.110000  \n",
       "25%      -0.570000  \n",
       "50%       0.000000  \n",
       "75%       0.680000  \n",
       "max       9.600000  "
      ]
     },
     "execution_count": 74,
     "metadata": {},
     "output_type": "execute_result"
    }
   ],
   "source": [
    "rajhi.describe()"
   ]
  },
  {
   "cell_type": "code",
   "execution_count": 75,
   "id": "b68c4061",
   "metadata": {},
   "outputs": [
    {
     "data": {
      "text/html": [
       "<div>\n",
       "<style scoped>\n",
       "    .dataframe tbody tr th:only-of-type {\n",
       "        vertical-align: middle;\n",
       "    }\n",
       "\n",
       "    .dataframe tbody tr th {\n",
       "        vertical-align: top;\n",
       "    }\n",
       "\n",
       "    .dataframe thead th {\n",
       "        text-align: right;\n",
       "    }\n",
       "</style>\n",
       "<table border=\"1\" class=\"dataframe\">\n",
       "  <thead>\n",
       "    <tr style=\"text-align: right;\">\n",
       "      <th></th>\n",
       "      <th>open</th>\n",
       "      <th>high</th>\n",
       "      <th>low</th>\n",
       "      <th>close</th>\n",
       "      <th>change</th>\n",
       "      <th>changePer</th>\n",
       "    </tr>\n",
       "  </thead>\n",
       "  <tbody>\n",
       "    <tr>\n",
       "      <th>count</th>\n",
       "      <td>2516.00000</td>\n",
       "      <td>2516.000000</td>\n",
       "      <td>2516.000000</td>\n",
       "      <td>2516.000000</td>\n",
       "      <td>2516.000000</td>\n",
       "      <td>2516.000000</td>\n",
       "    </tr>\n",
       "    <tr>\n",
       "      <th>mean</th>\n",
       "      <td>100.16870</td>\n",
       "      <td>100.987162</td>\n",
       "      <td>99.354571</td>\n",
       "      <td>100.124670</td>\n",
       "      <td>0.013454</td>\n",
       "      <td>0.023597</td>\n",
       "    </tr>\n",
       "    <tr>\n",
       "      <th>std</th>\n",
       "      <td>15.25307</td>\n",
       "      <td>15.277321</td>\n",
       "      <td>15.271706</td>\n",
       "      <td>15.310684</td>\n",
       "      <td>1.403898</td>\n",
       "      <td>1.497771</td>\n",
       "    </tr>\n",
       "    <tr>\n",
       "      <th>min</th>\n",
       "      <td>60.00000</td>\n",
       "      <td>62.000000</td>\n",
       "      <td>59.500000</td>\n",
       "      <td>60.880000</td>\n",
       "      <td>-9.690000</td>\n",
       "      <td>-9.960000</td>\n",
       "    </tr>\n",
       "    <tr>\n",
       "      <th>25%</th>\n",
       "      <td>90.00000</td>\n",
       "      <td>90.800000</td>\n",
       "      <td>89.250000</td>\n",
       "      <td>90.000000</td>\n",
       "      <td>-0.590000</td>\n",
       "      <td>-0.550000</td>\n",
       "    </tr>\n",
       "    <tr>\n",
       "      <th>50%</th>\n",
       "      <td>97.25000</td>\n",
       "      <td>98.000000</td>\n",
       "      <td>96.500000</td>\n",
       "      <td>97.100000</td>\n",
       "      <td>0.000000</td>\n",
       "      <td>0.000000</td>\n",
       "    </tr>\n",
       "    <tr>\n",
       "      <th>75%</th>\n",
       "      <td>113.50000</td>\n",
       "      <td>114.287500</td>\n",
       "      <td>112.500000</td>\n",
       "      <td>113.500000</td>\n",
       "      <td>0.600000</td>\n",
       "      <td>0.620000</td>\n",
       "    </tr>\n",
       "    <tr>\n",
       "      <th>max</th>\n",
       "      <td>135.75000</td>\n",
       "      <td>136.600000</td>\n",
       "      <td>134.750000</td>\n",
       "      <td>135.470000</td>\n",
       "      <td>8.550000</td>\n",
       "      <td>9.810000</td>\n",
       "    </tr>\n",
       "  </tbody>\n",
       "</table>\n",
       "</div>"
      ],
      "text/plain": [
       "             open         high          low        close       change  \\\n",
       "count  2516.00000  2516.000000  2516.000000  2516.000000  2516.000000   \n",
       "mean    100.16870   100.987162    99.354571   100.124670     0.013454   \n",
       "std      15.25307    15.277321    15.271706    15.310684     1.403898   \n",
       "min      60.00000    62.000000    59.500000    60.880000    -9.690000   \n",
       "25%      90.00000    90.800000    89.250000    90.000000    -0.590000   \n",
       "50%      97.25000    98.000000    96.500000    97.100000     0.000000   \n",
       "75%     113.50000   114.287500   112.500000   113.500000     0.600000   \n",
       "max     135.75000   136.600000   134.750000   135.470000     8.550000   \n",
       "\n",
       "         changePer  \n",
       "count  2516.000000  \n",
       "mean      0.023597  \n",
       "std       1.497771  \n",
       "min      -9.960000  \n",
       "25%      -0.550000  \n",
       "50%       0.000000  \n",
       "75%       0.620000  \n",
       "max       9.810000  "
      ]
     },
     "execution_count": 75,
     "metadata": {},
     "output_type": "execute_result"
    }
   ],
   "source": [
    "sabic.describe()"
   ]
  },
  {
   "cell_type": "code",
   "execution_count": 76,
   "id": "b5963578",
   "metadata": {},
   "outputs": [
    {
     "data": {
      "text/html": [
       "<div>\n",
       "<style scoped>\n",
       "    .dataframe tbody tr th:only-of-type {\n",
       "        vertical-align: middle;\n",
       "    }\n",
       "\n",
       "    .dataframe tbody tr th {\n",
       "        vertical-align: top;\n",
       "    }\n",
       "\n",
       "    .dataframe thead th {\n",
       "        text-align: right;\n",
       "    }\n",
       "</style>\n",
       "<table border=\"1\" class=\"dataframe\">\n",
       "  <thead>\n",
       "    <tr style=\"text-align: right;\">\n",
       "      <th></th>\n",
       "      <th>open</th>\n",
       "      <th>high</th>\n",
       "      <th>low</th>\n",
       "      <th>close</th>\n",
       "      <th>change</th>\n",
       "      <th>changePer</th>\n",
       "    </tr>\n",
       "  </thead>\n",
       "  <tbody>\n",
       "    <tr>\n",
       "      <th>count</th>\n",
       "      <td>2516.000000</td>\n",
       "      <td>2516.000000</td>\n",
       "      <td>2516.000000</td>\n",
       "      <td>2516.000000</td>\n",
       "      <td>2516.000000</td>\n",
       "      <td>2516.000000</td>\n",
       "    </tr>\n",
       "    <tr>\n",
       "      <th>mean</th>\n",
       "      <td>17.849579</td>\n",
       "      <td>18.022313</td>\n",
       "      <td>17.696558</td>\n",
       "      <td>17.854444</td>\n",
       "      <td>0.006391</td>\n",
       "      <td>0.043828</td>\n",
       "    </tr>\n",
       "    <tr>\n",
       "      <th>std</th>\n",
       "      <td>3.778716</td>\n",
       "      <td>3.839446</td>\n",
       "      <td>3.722383</td>\n",
       "      <td>3.780952</td>\n",
       "      <td>0.294602</td>\n",
       "      <td>1.562120</td>\n",
       "    </tr>\n",
       "    <tr>\n",
       "      <th>min</th>\n",
       "      <td>12.700000</td>\n",
       "      <td>12.800000</td>\n",
       "      <td>12.250000</td>\n",
       "      <td>12.700000</td>\n",
       "      <td>-2.470000</td>\n",
       "      <td>-9.710000</td>\n",
       "    </tr>\n",
       "    <tr>\n",
       "      <th>25%</th>\n",
       "      <td>14.750000</td>\n",
       "      <td>14.875000</td>\n",
       "      <td>14.650000</td>\n",
       "      <td>14.750000</td>\n",
       "      <td>-0.100000</td>\n",
       "      <td>-0.510000</td>\n",
       "    </tr>\n",
       "    <tr>\n",
       "      <th>50%</th>\n",
       "      <td>16.850000</td>\n",
       "      <td>17.045000</td>\n",
       "      <td>16.650000</td>\n",
       "      <td>16.830000</td>\n",
       "      <td>0.000000</td>\n",
       "      <td>0.000000</td>\n",
       "    </tr>\n",
       "    <tr>\n",
       "      <th>75%</th>\n",
       "      <td>20.680000</td>\n",
       "      <td>20.865000</td>\n",
       "      <td>20.500000</td>\n",
       "      <td>20.700000</td>\n",
       "      <td>0.100000</td>\n",
       "      <td>0.570000</td>\n",
       "    </tr>\n",
       "    <tr>\n",
       "      <th>max</th>\n",
       "      <td>28.500000</td>\n",
       "      <td>29.400000</td>\n",
       "      <td>28.500000</td>\n",
       "      <td>29.400000</td>\n",
       "      <td>2.120000</td>\n",
       "      <td>9.930000</td>\n",
       "    </tr>\n",
       "  </tbody>\n",
       "</table>\n",
       "</div>"
      ],
      "text/plain": [
       "              open         high          low        close       change  \\\n",
       "count  2516.000000  2516.000000  2516.000000  2516.000000  2516.000000   \n",
       "mean     17.849579    18.022313    17.696558    17.854444     0.006391   \n",
       "std       3.778716     3.839446     3.722383     3.780952     0.294602   \n",
       "min      12.700000    12.800000    12.250000    12.700000    -2.470000   \n",
       "25%      14.750000    14.875000    14.650000    14.750000    -0.100000   \n",
       "50%      16.850000    17.045000    16.650000    16.830000     0.000000   \n",
       "75%      20.680000    20.865000    20.500000    20.700000     0.100000   \n",
       "max      28.500000    29.400000    28.500000    29.400000     2.120000   \n",
       "\n",
       "         changePer  \n",
       "count  2516.000000  \n",
       "mean      0.043828  \n",
       "std       1.562120  \n",
       "min      -9.710000  \n",
       "25%      -0.510000  \n",
       "50%       0.000000  \n",
       "75%       0.570000  \n",
       "max       9.930000  "
      ]
     },
     "execution_count": 76,
     "metadata": {},
     "output_type": "execute_result"
    }
   ],
   "source": [
    "elec.describe()"
   ]
  },
  {
   "cell_type": "code",
   "execution_count": 77,
   "id": "dc949afc",
   "metadata": {},
   "outputs": [
    {
     "data": {
      "text/html": [
       "<div>\n",
       "<style scoped>\n",
       "    .dataframe tbody tr th:only-of-type {\n",
       "        vertical-align: middle;\n",
       "    }\n",
       "\n",
       "    .dataframe tbody tr th {\n",
       "        vertical-align: top;\n",
       "    }\n",
       "\n",
       "    .dataframe thead th {\n",
       "        text-align: right;\n",
       "    }\n",
       "</style>\n",
       "<table border=\"1\" class=\"dataframe\">\n",
       "  <thead>\n",
       "    <tr style=\"text-align: right;\">\n",
       "      <th></th>\n",
       "      <th>open</th>\n",
       "      <th>high</th>\n",
       "      <th>low</th>\n",
       "      <th>close</th>\n",
       "      <th>change</th>\n",
       "      <th>changePer</th>\n",
       "      <th>Volume</th>\n",
       "      <th>tradesNum</th>\n",
       "    </tr>\n",
       "  </thead>\n",
       "  <tbody>\n",
       "    <tr>\n",
       "      <th>count</th>\n",
       "      <td>2516.000000</td>\n",
       "      <td>2515.000000</td>\n",
       "      <td>2516.000000</td>\n",
       "      <td>2516.000000</td>\n",
       "      <td>2516.000000</td>\n",
       "      <td>2516.000000</td>\n",
       "      <td>2.516000e+03</td>\n",
       "      <td>2516.000000</td>\n",
       "    </tr>\n",
       "    <tr>\n",
       "      <th>mean</th>\n",
       "      <td>73.627703</td>\n",
       "      <td>74.293439</td>\n",
       "      <td>72.981578</td>\n",
       "      <td>73.662254</td>\n",
       "      <td>0.032250</td>\n",
       "      <td>0.058517</td>\n",
       "      <td>8.143123e+05</td>\n",
       "      <td>787.486089</td>\n",
       "    </tr>\n",
       "    <tr>\n",
       "      <th>std</th>\n",
       "      <td>25.464542</td>\n",
       "      <td>25.699763</td>\n",
       "      <td>25.204789</td>\n",
       "      <td>25.438150</td>\n",
       "      <td>1.097447</td>\n",
       "      <td>1.417359</td>\n",
       "      <td>1.032017e+06</td>\n",
       "      <td>962.959176</td>\n",
       "    </tr>\n",
       "    <tr>\n",
       "      <th>min</th>\n",
       "      <td>33.100000</td>\n",
       "      <td>33.200000</td>\n",
       "      <td>33.000000</td>\n",
       "      <td>33.000000</td>\n",
       "      <td>-5.800000</td>\n",
       "      <td>-7.730000</td>\n",
       "      <td>0.000000e+00</td>\n",
       "      <td>0.000000</td>\n",
       "    </tr>\n",
       "    <tr>\n",
       "      <th>25%</th>\n",
       "      <td>58.937500</td>\n",
       "      <td>59.750000</td>\n",
       "      <td>58.187500</td>\n",
       "      <td>59.047500</td>\n",
       "      <td>-0.400000</td>\n",
       "      <td>-0.550000</td>\n",
       "      <td>3.224098e+05</td>\n",
       "      <td>256.000000</td>\n",
       "    </tr>\n",
       "    <tr>\n",
       "      <th>50%</th>\n",
       "      <td>68.800000</td>\n",
       "      <td>69.400000</td>\n",
       "      <td>68.350000</td>\n",
       "      <td>68.795000</td>\n",
       "      <td>0.000000</td>\n",
       "      <td>0.000000</td>\n",
       "      <td>5.644005e+05</td>\n",
       "      <td>409.000000</td>\n",
       "    </tr>\n",
       "    <tr>\n",
       "      <th>75%</th>\n",
       "      <td>92.525000</td>\n",
       "      <td>93.400000</td>\n",
       "      <td>91.575000</td>\n",
       "      <td>92.700000</td>\n",
       "      <td>0.440000</td>\n",
       "      <td>0.662500</td>\n",
       "      <td>9.764658e+05</td>\n",
       "      <td>919.250000</td>\n",
       "    </tr>\n",
       "    <tr>\n",
       "      <th>max</th>\n",
       "      <td>139.400000</td>\n",
       "      <td>139.800000</td>\n",
       "      <td>137.000000</td>\n",
       "      <td>139.200000</td>\n",
       "      <td>6.000000</td>\n",
       "      <td>9.750000</td>\n",
       "      <td>2.091096e+07</td>\n",
       "      <td>12388.000000</td>\n",
       "    </tr>\n",
       "  </tbody>\n",
       "</table>\n",
       "</div>"
      ],
      "text/plain": [
       "              open         high          low        close       change  \\\n",
       "count  2516.000000  2515.000000  2516.000000  2516.000000  2516.000000   \n",
       "mean     73.627703    74.293439    72.981578    73.662254     0.032250   \n",
       "std      25.464542    25.699763    25.204789    25.438150     1.097447   \n",
       "min      33.100000    33.200000    33.000000    33.000000    -5.800000   \n",
       "25%      58.937500    59.750000    58.187500    59.047500    -0.400000   \n",
       "50%      68.800000    69.400000    68.350000    68.795000     0.000000   \n",
       "75%      92.525000    93.400000    91.575000    92.700000     0.440000   \n",
       "max     139.400000   139.800000   137.000000   139.200000     6.000000   \n",
       "\n",
       "         changePer        Volume     tradesNum  \n",
       "count  2516.000000  2.516000e+03   2516.000000  \n",
       "mean      0.058517  8.143123e+05    787.486089  \n",
       "std       1.417359  1.032017e+06    962.959176  \n",
       "min      -7.730000  0.000000e+00      0.000000  \n",
       "25%      -0.550000  3.224098e+05    256.000000  \n",
       "50%       0.000000  5.644005e+05    409.000000  \n",
       "75%       0.662500  9.764658e+05    919.250000  \n",
       "max       9.750000  2.091096e+07  12388.000000  "
      ]
     },
     "execution_count": 77,
     "metadata": {},
     "output_type": "execute_result"
    }
   ],
   "source": [
    "stc.describe()"
   ]
  },
  {
   "cell_type": "markdown",
   "id": "b44cc139",
   "metadata": {},
   "source": [
    "### STEP 3: DESIGN "
   ]
  },
  {
   "cell_type": "markdown",
   "id": "9f9e6b93",
   "metadata": {},
   "source": [
    "# Question 1: \n",
    "What stocks opining prices behavior over years? "
   ]
  },
  {
   "cell_type": "code",
   "execution_count": 90,
   "id": "b80b3400",
   "metadata": {},
   "outputs": [
    {
     "ename": "KeyError",
     "evalue": "\"None of ['date'] are in the columns\"",
     "output_type": "error",
     "traceback": [
      "\u001b[1;31m---------------------------------------------------------------------------\u001b[0m",
      "\u001b[1;31mKeyError\u001b[0m                                  Traceback (most recent call last)",
      "\u001b[1;32m<ipython-input-90-73b9d039e105>\u001b[0m in \u001b[0;36m<module>\u001b[1;34m\u001b[0m\n\u001b[1;32m----> 1\u001b[1;33m \u001b[0mrajhi\u001b[0m\u001b[1;33m.\u001b[0m\u001b[0mset_index\u001b[0m\u001b[1;33m(\u001b[0m\u001b[1;33m[\u001b[0m\u001b[1;34m'date'\u001b[0m\u001b[1;33m]\u001b[0m\u001b[1;33m,\u001b[0m \u001b[0minplace\u001b[0m\u001b[1;33m=\u001b[0m\u001b[1;32mTrue\u001b[0m\u001b[1;33m)\u001b[0m\u001b[1;33m\u001b[0m\u001b[1;33m\u001b[0m\u001b[0m\n\u001b[0m",
      "\u001b[1;32m~\\anaconda3\\lib\\site-packages\\pandas\\core\\frame.py\u001b[0m in \u001b[0;36mset_index\u001b[1;34m(self, keys, drop, append, inplace, verify_integrity)\u001b[0m\n\u001b[0;32m   4725\u001b[0m \u001b[1;33m\u001b[0m\u001b[0m\n\u001b[0;32m   4726\u001b[0m         \u001b[1;32mif\u001b[0m \u001b[0mmissing\u001b[0m\u001b[1;33m:\u001b[0m\u001b[1;33m\u001b[0m\u001b[1;33m\u001b[0m\u001b[0m\n\u001b[1;32m-> 4727\u001b[1;33m             \u001b[1;32mraise\u001b[0m \u001b[0mKeyError\u001b[0m\u001b[1;33m(\u001b[0m\u001b[1;34mf\"None of {missing} are in the columns\"\u001b[0m\u001b[1;33m)\u001b[0m\u001b[1;33m\u001b[0m\u001b[1;33m\u001b[0m\u001b[0m\n\u001b[0m\u001b[0;32m   4728\u001b[0m \u001b[1;33m\u001b[0m\u001b[0m\n\u001b[0;32m   4729\u001b[0m         \u001b[1;32mif\u001b[0m \u001b[0minplace\u001b[0m\u001b[1;33m:\u001b[0m\u001b[1;33m\u001b[0m\u001b[1;33m\u001b[0m\u001b[0m\n",
      "\u001b[1;31mKeyError\u001b[0m: \"None of ['date'] are in the columns\""
     ]
    }
   ],
   "source": [
    "rajhi.set_index(['date'], inplace=True)"
   ]
  },
  {
   "cell_type": "code",
   "execution_count": 83,
   "id": "29d8c095",
   "metadata": {},
   "outputs": [],
   "source": [
    "sabic.set_index(['date'], inplace=True)"
   ]
  },
  {
   "cell_type": "code",
   "execution_count": 85,
   "id": "acd802f5",
   "metadata": {},
   "outputs": [],
   "source": [
    "elec.set_index(['date'], inplace=True)"
   ]
  },
  {
   "cell_type": "code",
   "execution_count": 86,
   "id": "4a7f1ec3",
   "metadata": {},
   "outputs": [],
   "source": [
    "stc.set_index(['date'], inplace=True)"
   ]
  },
  {
   "cell_type": "code",
   "execution_count": 100,
   "id": "aeee22e3",
   "metadata": {},
   "outputs": [
    {
     "data": {
      "image/png": "[encoded data removed]",
      "text/plain": [
       "<Figure size 1080x504 with 1 Axes>"
      ]
     },
     "metadata": {
      "needs_background": "light"
     },
     "output_type": "display_data"
    }
   ],
   "source": [
    "rajhi['open'].plot(label='Rajhi Bank', figsize = (15,7))\n",
    "sabic['open'].plot(label='SABIC')\n",
    "elec['open'].plot(label='Electricity')\n",
    "plt.ylabel('Stock Price')\n",
    "plt.title('Stock Prices of AlRajhi, SABIC, ELECTRICTY')\n",
    "plt.legend();"
   ]
  },
  {
   "cell_type": "code",
   "execution_count": 130,
   "id": "d69cb305",
   "metadata": {},
   "outputs": [
    {
     "data": {
      "text/plain": [
       "<AxesSubplot:xlabel='date'>"
      ]
     },
     "execution_count": 130,
     "metadata": {},
     "output_type": "execute_result"
    },
    {
     "data": {
      "image/png": "[encoded data removed]",
      "text/plain": [
       "<Figure size 432x288 with 1 Axes>"
      ]
     },
     "metadata": {
      "needs_background": "light"
     },
     "output_type": "display_data"
    }
   ],
   "source": [
    "sabic.iloc[380:520]['open'].plot()"
   ]
  },
  {
   "cell_type": "markdown",
   "id": "2c652793",
   "metadata": {},
   "source": [
    "# Question 2:\n",
    "Is there a correlation between stocks opening prices? "
   ]
  },
  {
   "cell_type": "code",
   "execution_count": 131,
   "id": "bb9d6df5",
   "metadata": {},
   "outputs": [],
   "source": [
    "from pandas.plotting import scatter_matrix\n"
   ]
  },
  {
   "cell_type": "code",
   "execution_count": 147,
   "id": "4a2db624",
   "metadata": {},
   "outputs": [],
   "source": [
    "comp=pd.concat([rajhi['open'],sabic['open'],elec['open']],axis=1)\n",
    "comp.columns =['Rajhi Open', 'SABIC Open','ELECTRISTY Open']"
   ]
  },
  {
   "cell_type": "code",
   "execution_count": 148,
   "id": "9d528b76",
   "metadata": {},
   "outputs": [
    {
     "data": {
      "text/plain": [
       "array([[<AxesSubplot:xlabel='Rajhi Open', ylabel='Rajhi Open'>,\n",
       "        <AxesSubplot:xlabel='SABIC Open', ylabel='Rajhi Open'>,\n",
       "        <AxesSubplot:xlabel='ELECTRISTY Open', ylabel='Rajhi Open'>],\n",
       "       [<AxesSubplot:xlabel='Rajhi Open', ylabel='SABIC Open'>,\n",
       "        <AxesSubplot:xlabel='SABIC Open', ylabel='SABIC Open'>,\n",
       "        <AxesSubplot:xlabel='ELECTRISTY Open', ylabel='SABIC Open'>],\n",
       "       [<AxesSubplot:xlabel='Rajhi Open', ylabel='ELECTRISTY Open'>,\n",
       "        <AxesSubplot:xlabel='SABIC Open', ylabel='ELECTRISTY Open'>,\n",
       "        <AxesSubplot:xlabel='ELECTRISTY Open', ylabel='ELECTRISTY Open'>]],\n",
       "      dtype=object)"
      ]
     },
     "execution_count": 148,
     "metadata": {},
     "output_type": "execute_result"
    },
    {
     "data": {
      "image/png": "[encoded data removed]",
      "text/plain": [
       "<Figure size 576x576 with 9 Axes>"
      ]
     },
     "metadata": {
      "needs_background": "light"
     },
     "output_type": "display_data"
    }
   ],
   "source": [
    "scatter_matrix(comp, figsize=(8,8))"
   ]
  },
  {
   "cell_type": "markdown",
   "id": "ece50ed0",
   "metadata": {},
   "source": [
    "# Question 3: \n",
    "what is daily percentage change?"
   ]
  },
  {
   "cell_type": "code",
   "execution_count": 149,
   "id": "98beffe7",
   "metadata": {},
   "outputs": [],
   "source": [
    "stc['returns'] = (stc['close']/stc['close'].shift(1))-1"
   ]
  },
  {
   "cell_type": "code",
   "execution_count": 150,
   "id": "8be4820c",
   "metadata": {},
   "outputs": [
    {
     "data": {
      "text/html": [
       "<div>\n",
       "<style scoped>\n",
       "    .dataframe tbody tr th:only-of-type {\n",
       "        vertical-align: middle;\n",
       "    }\n",
       "\n",
       "    .dataframe tbody tr th {\n",
       "        vertical-align: top;\n",
       "    }\n",
       "\n",
       "    .dataframe thead th {\n",
       "        text-align: right;\n",
       "    }\n",
       "</style>\n",
       "<table border=\"1\" class=\"dataframe\">\n",
       "  <thead>\n",
       "    <tr style=\"text-align: right;\">\n",
       "      <th></th>\n",
       "      <th>open</th>\n",
       "      <th>high</th>\n",
       "      <th>low</th>\n",
       "      <th>close</th>\n",
       "      <th>change</th>\n",
       "      <th>changePer</th>\n",
       "      <th>Volume</th>\n",
       "      <th>tradesNum</th>\n",
       "      <th>returns</th>\n",
       "    </tr>\n",
       "    <tr>\n",
       "      <th>date</th>\n",
       "      <th></th>\n",
       "      <th></th>\n",
       "      <th></th>\n",
       "      <th></th>\n",
       "      <th></th>\n",
       "      <th></th>\n",
       "      <th></th>\n",
       "      <th></th>\n",
       "      <th></th>\n",
       "    </tr>\n",
       "  </thead>\n",
       "  <tbody>\n",
       "    <tr>\n",
       "      <th>2021-10-31</th>\n",
       "      <td>116.6</td>\n",
       "      <td>116.6</td>\n",
       "      <td>115.0</td>\n",
       "      <td>115.2</td>\n",
       "      <td>-1.8</td>\n",
       "      <td>-1.54</td>\n",
       "      <td>711066.0</td>\n",
       "      <td>4557.0</td>\n",
       "      <td>NaN</td>\n",
       "    </tr>\n",
       "    <tr>\n",
       "      <th>2021-10-28</th>\n",
       "      <td>117.0</td>\n",
       "      <td>117.2</td>\n",
       "      <td>115.6</td>\n",
       "      <td>117.0</td>\n",
       "      <td>0.0</td>\n",
       "      <td>0.00</td>\n",
       "      <td>1333737.0</td>\n",
       "      <td>4876.0</td>\n",
       "      <td>0.015625</td>\n",
       "    </tr>\n",
       "    <tr>\n",
       "      <th>2021-10-27</th>\n",
       "      <td>117.8</td>\n",
       "      <td>117.8</td>\n",
       "      <td>117.0</td>\n",
       "      <td>117.0</td>\n",
       "      <td>-0.2</td>\n",
       "      <td>-0.17</td>\n",
       "      <td>885464.0</td>\n",
       "      <td>4444.0</td>\n",
       "      <td>0.000000</td>\n",
       "    </tr>\n",
       "    <tr>\n",
       "      <th>2021-10-26</th>\n",
       "      <td>119.0</td>\n",
       "      <td>119.8</td>\n",
       "      <td>117.2</td>\n",
       "      <td>117.2</td>\n",
       "      <td>-2.0</td>\n",
       "      <td>-1.68</td>\n",
       "      <td>1763426.0</td>\n",
       "      <td>5442.0</td>\n",
       "      <td>0.001709</td>\n",
       "    </tr>\n",
       "    <tr>\n",
       "      <th>2021-10-25</th>\n",
       "      <td>119.8</td>\n",
       "      <td>120.2</td>\n",
       "      <td>119.0</td>\n",
       "      <td>119.2</td>\n",
       "      <td>-0.2</td>\n",
       "      <td>-0.17</td>\n",
       "      <td>878425.0</td>\n",
       "      <td>2872.0</td>\n",
       "      <td>0.017065</td>\n",
       "    </tr>\n",
       "  </tbody>\n",
       "</table>\n",
       "</div>"
      ],
      "text/plain": [
       "             open   high    low  close  change  changePer     Volume  \\\n",
       "date                                                                   \n",
       "2021-10-31  116.6  116.6  115.0  115.2    -1.8      -1.54   711066.0   \n",
       "2021-10-28  117.0  117.2  115.6  117.0     0.0       0.00  1333737.0   \n",
       "2021-10-27  117.8  117.8  117.0  117.0    -0.2      -0.17   885464.0   \n",
       "2021-10-26  119.0  119.8  117.2  117.2    -2.0      -1.68  1763426.0   \n",
       "2021-10-25  119.8  120.2  119.0  119.2    -0.2      -0.17   878425.0   \n",
       "\n",
       "            tradesNum   returns  \n",
       "date                             \n",
       "2021-10-31     4557.0       NaN  \n",
       "2021-10-28     4876.0  0.015625  \n",
       "2021-10-27     4444.0  0.000000  \n",
       "2021-10-26     5442.0  0.001709  \n",
       "2021-10-25     2872.0  0.017065  "
      ]
     },
     "execution_count": 150,
     "metadata": {},
     "output_type": "execute_result"
    }
   ],
   "source": [
    "stc.head()"
   ]
  },
  {
   "cell_type": "code",
   "execution_count": 155,
   "id": "8db934bf",
   "metadata": {},
   "outputs": [
    {
     "data": {
      "image/png": "[encoded data removed]",
      "text/plain": [
       "<Figure size 432x288 with 1 Axes>"
      ]
     },
     "metadata": {
      "needs_background": "light"
     },
     "output_type": "display_data"
    }
   ],
   "source": [
    "stc['returns'].hist(bins=50)\n",
    "plt.savefig('returns.jpg')"
   ]
  },
  {
   "cell_type": "markdown",
   "id": "94d05e98",
   "metadata": {},
   "source": [
    "# Question 4\n",
    "What is the most traded stock Company?"
   ]
  },
  {
   "cell_type": "code",
   "execution_count": 173,
   "id": "72da7b2d",
   "metadata": {},
   "outputs": [
    {
     "data": {
      "image/png": "[encoded data removed]",
      "text/plain": [
       "<Figure size 432x288 with 1 Axes>"
      ]
     },
     "metadata": {},
     "output_type": "display_data"
    }
   ],
   "source": [
    "with plt.xkcd():\n",
    "    plt.plot(rajhi['tradesNum'],label='Rajhi Bank')\n",
    "    plt.plot(sabic['tradesNum'],label='SABIC')\n",
    "    plt.plot(elec['tradesNum'],label='Electricity')\n",
    "    plt.xlabel('date')\n",
    "    plt.title('Number of trades')\n",
    "    plt.legend();"
   ]
  },
  {
   "cell_type": "code",
   "execution_count": null,
   "id": "a500d74f",
   "metadata": {},
   "outputs": [],
   "source": []
  }
 ],
 "metadata": {
  "kernelspec": {
   "display_name": "Python 3",
   "language": "python",
   "name": "python3"
  },
  "language_info": {
   "codemirror_mode": {
    "name": "ipython",
    "version": 3
   },
   "file_extension": ".py",
   "mimetype": "text/x-python",
   "name": "python",
   "nbconvert_exporter": "python",
   "pygments_lexer": "ipython3",
   "version": "3.8.8"
  }
 },
 "nbformat": 4,
 "nbformat_minor": 5
}
